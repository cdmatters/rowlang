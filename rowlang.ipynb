{
 "cells": [
  {
   "cell_type": "code",
   "execution_count": null,
   "metadata": {},
   "outputs": [],
   "source": [
    "%%capture\n",
    "%load_ext autoreload\n",
    "%autoreload 2\n",
    "\n",
    "%matplotlib inline\n",
    "import matplotlib\n",
    "import matplotlib.pyplot as plt"
   ]
  },
  {
   "cell_type": "markdown",
   "metadata": {},
   "source": [
    "# Rowlang\n",
    "\n",
    "## Introduction \n",
    "\n",
    "My computer is a big JK Rowling fan, and has been trying to write fan fiction. I decided to track it's progress. Here's how I went about it...\n",
    "\n",
    "### What's My Data?\n",
    "\n",
    "This project uses .txt versions of Harry Potter 1-7.\n",
    "\n",
    "### What's My Aim?\n",
    "\n",
    "It's subject to change! These will be broken down into smaller achievable tasks, building up to something more substantial, as I learn about NLP in the process (hopefully!).\n",
    "\n",
    "   * Parse the corpus of words HP\n",
    "   * Investigate the distribution of words\n",
    "   * Build a language model?\n",
    "   "
   ]
  },
  {
   "cell_type": "code",
   "execution_count": null,
   "metadata": {},
   "outputs": [],
   "source": [
    "print(\"Hello World!\")"
   ]
  },
  {
   "cell_type": "code",
   "execution_count": null,
   "metadata": {},
   "outputs": [],
   "source": [
    "from rowlang import Tokenizer\n",
    "\n",
    "hp1 = \"./data/hp1.txt\"\n",
    "t = Tokenizer()\n",
    "tks = t.tokenize(hp1)\n",
    "\n",
    "print(tks)\n",
    "\n"
   ]
  },
  {
   "cell_type": "code",
   "execution_count": null,
   "metadata": {},
   "outputs": [],
   "source": [
    "from collections import Counter\n",
    "from math import log\n",
    "\n",
    "c = Counter(tks)\n",
    "words, count = zip(*c.most_common())\n",
    "\n",
    "plt.xlabel(\"Most Common Words in HP1\")\n",
    "p = plt.plot( range(len(count)), count)\n"
   ]
  },
  {
   "cell_type": "code",
   "execution_count": null,
   "metadata": {},
   "outputs": [],
   "source": []
  },
  {
   "cell_type": "code",
   "execution_count": null,
   "metadata": {},
   "outputs": [],
   "source": []
  }
 ],
 "metadata": {
  "kernelspec": {
   "display_name": "Python 3",
   "language": "python",
   "name": "python3"
  },
  "language_info": {
   "codemirror_mode": {
    "name": "ipython",
    "version": 3
   },
   "file_extension": ".py",
   "mimetype": "text/x-python",
   "name": "python",
   "nbconvert_exporter": "python",
   "pygments_lexer": "ipython3",
   "version": "3.6.2"
  }
 },
 "nbformat": 4,
 "nbformat_minor": 2
}
